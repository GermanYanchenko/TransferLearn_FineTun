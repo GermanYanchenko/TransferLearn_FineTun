{
  "nbformat": 4,
  "nbformat_minor": 0,
  "metadata": {
    "colab": {
      "name": "trans_learn_fine_tun.ipynb",
      "provenance": []
    },
    "kernelspec": {
      "name": "python3",
      "display_name": "Python 3"
    },
    "language_info": {
      "name": "python"
    },
    "accelerator": "GPU",
    "gpuClass": "standard"
  },
  "cells": [
    {
      "cell_type": "code",
      "execution_count": null,
      "metadata": {
        "id": "MLdEzsVB1Y5p"
      },
      "outputs": [],
      "source": [
        "!wget 'https://storage.googleapis.com/mledu-datasets/cats_and_dogs_filtered.zip' "
      ]
    },
    {
      "cell_type": "code",
      "source": [
        "!unzip '/content/cats_and_dogs_filtered.zip' -d '/content/data'"
      ],
      "metadata": {
        "id": "9Rt98rhJ1nMO"
      },
      "execution_count": null,
      "outputs": []
    },
    {
      "cell_type": "code",
      "source": [
        "import tensorflow as tf\n",
        "import os\n",
        "import cv2\n",
        "import numpy as np\n",
        "from matplotlib import pyplot as plt"
      ],
      "metadata": {
        "id": "xG3v7Ebc1nOt"
      },
      "execution_count": 4,
      "outputs": []
    },
    {
      "cell_type": "code",
      "source": [
        "data_dir = 'data'"
      ],
      "metadata": {
        "id": "pZLSTDow1nQ_"
      },
      "execution_count": 34,
      "outputs": []
    },
    {
      "cell_type": "code",
      "source": [
        "data = tf.keras.utils.image_dataset_from_directory('data/cats_and_dogs_filtered/train')\n",
        "val = tf.keras.utils.image_dataset_from_directory('data/cats_and_dogs_filtered/validation')"
      ],
      "metadata": {
        "colab": {
          "base_uri": "https://localhost:8080/"
        },
        "id": "GmAXZN0P1nTQ",
        "outputId": "e2b50512-c279-45b9-bc48-e947cf4b2435"
      },
      "execution_count": 35,
      "outputs": [
        {
          "output_type": "stream",
          "name": "stdout",
          "text": [
            "Found 2000 files belonging to 2 classes.\n",
            "Found 1000 files belonging to 2 classes.\n"
          ]
        }
      ]
    },
    {
      "cell_type": "code",
      "source": [
        "data = data.map(lambda x,y: (x/255, y))\n",
        "val = val.map(lambda x,y: (x/255, y))"
      ],
      "metadata": {
        "id": "Dg2nJwev236O"
      },
      "execution_count": 36,
      "outputs": []
    },
    {
      "cell_type": "code",
      "source": [
        "train_size = int(len(data)*.9)\n",
        "test_size = int(len(data)*.1)"
      ],
      "metadata": {
        "id": "WLRwq95N23_F"
      },
      "execution_count": 37,
      "outputs": []
    },
    {
      "cell_type": "code",
      "source": [
        "data = data.map(lambda x,y: (tf.image.resize(x, (128, 128)), y))\n",
        "val = val.map(lambda x,y: (tf.image.resize(x, (128, 128)), y))"
      ],
      "metadata": {
        "id": "yeG8zQPa24EG"
      },
      "execution_count": 38,
      "outputs": []
    },
    {
      "cell_type": "code",
      "source": [
        "train = data.take(train_size)\n",
        "test = data.skip(train_size).take(test_size)"
      ],
      "metadata": {
        "id": "_f20jyzM7Huf"
      },
      "execution_count": 39,
      "outputs": []
    },
    {
      "cell_type": "code",
      "source": [
        "IMG_SHAPE = (128, 128, 3)\n",
        "\n",
        "base_model = tf.keras.applications.MobileNetV2(input_shape=IMG_SHAPE,\n",
        "                                               include_top=False,\n",
        "                                               weights='imagenet')\n",
        "\n",
        "base_model.trainable = False "
      ],
      "metadata": {
        "id": "6HGOOpud3uLt"
      },
      "execution_count": 40,
      "outputs": []
    },
    {
      "cell_type": "code",
      "source": [
        "model = tf.keras.Sequential([base_model,\n",
        "                             tf.keras.layers.GlobalAveragePooling2D(),\n",
        "                             tf.keras.layers.Dense(1, activation = 'sigmoid')])\n",
        "model.compile(optimizer = tf.keras.optimizers.Adam(learning_rate = 0.0003),\n",
        "              loss = 'binary_crossentropy',\n",
        "              metrics =['accuracy'])"
      ],
      "metadata": {
        "id": "FXZ8RXYO3uQX"
      },
      "execution_count": 41,
      "outputs": []
    },
    {
      "cell_type": "code",
      "source": [
        "logdir='logs'\n",
        "tensorboard_callback = tf.keras.callbacks.TensorBoard(log_dir=logdir)"
      ],
      "metadata": {
        "id": "ZFPIHIXJ3uTW"
      },
      "execution_count": 42,
      "outputs": []
    },
    {
      "cell_type": "code",
      "source": [
        "hist = model.fit(train, epochs= 30, validation_data=val, callbacks=[tensorboard_callback])"
      ],
      "metadata": {
        "id": "jZv6l9-53uVv"
      },
      "execution_count": null,
      "outputs": []
    },
    {
      "cell_type": "code",
      "source": [
        "fig, ax = plt.subplots(ncols = 2, figsize = (12, 6))\n",
        "\n",
        "ax[0].plot(hist.history['loss'], color='teal', label='loss')\n",
        "ax[0].plot(hist.history['val_loss'], color='orange', label='val_loss')\n",
        "\n",
        "ax[1].plot(hist.history['accuracy'], color='teal', label='accuracy')\n",
        "ax[1].plot(hist.history['val_accuracy'], color='orange', label='val_accuracy')\n",
        "\n",
        "ax[0].title.set_text('Loss')\n",
        "ax[1].title.set_text('Accuracy')\n",
        "\n",
        "ax[0].legend(loc=\"upper left\")\n",
        "ax[1].legend(loc=\"upper left\")"
      ],
      "metadata": {
        "colab": {
          "base_uri": "https://localhost:8080/",
          "height": 407
        },
        "id": "0QMEnTzo7Lql",
        "outputId": "3b0f2ccb-9151-4fc1-b749-1da556ff0ec2"
      },
      "execution_count": 44,
      "outputs": [
        {
          "output_type": "execute_result",
          "data": {
            "text/plain": [
              "<matplotlib.legend.Legend at 0x7fe366212850>"
            ]
          },
          "metadata": {},
          "execution_count": 44
        },
        {
          "output_type": "display_data",
          "data": {
            "text/plain": [
              "<Figure size 864x432 with 2 Axes>"
            ],
            "image/png": "[encoded data removed]"
          },
          "metadata": {
            "needs_background": "light"
          }
        }
      ]
    },
    {
      "cell_type": "markdown",
      "source": [
        "Реализован transfer learning модели MobileNetV2. Точность на валидационных данных составилa в районе 96%. Перейдем к fine tuning, разморозив слои базовой модели."
      ],
      "metadata": {
        "id": "iyKfNjSA8yqs"
      }
    },
    {
      "cell_type": "code",
      "source": [
        "base_model.trainable = True\n",
        "print(\"Количество слоев в базовой модели: \", len(base_model.layers))"
      ],
      "metadata": {
        "colab": {
          "base_uri": "https://localhost:8080/"
        },
        "id": "SrOX0Nn680FE",
        "outputId": "36d11733-e7a5-432c-ff77-0a64bc4f4244"
      },
      "execution_count": 45,
      "outputs": [
        {
          "output_type": "stream",
          "name": "stdout",
          "text": [
            "Количество слоев в базовой модели:  154\n"
          ]
        }
      ]
    },
    {
      "cell_type": "code",
      "source": [
        "fine_tune_at = 100\n",
        "for layer in base_model.layers[:fine_tune_at]:\n",
        "  layer.trainable =  False\n",
        "\n",
        "model.compile(optimizer = tf.keras.optimizers.Adam(learning_rate = 0.0003),\n",
        "              loss = 'binary_crossentropy',\n",
        "              metrics =['accuracy'])"
      ],
      "metadata": {
        "id": "z18c-NyL80Hn"
      },
      "execution_count": 46,
      "outputs": []
    },
    {
      "cell_type": "code",
      "source": [
        "logdir_ft='logs_ft'\n",
        "tensorboard_callback = tf.keras.callbacks.TensorBoard(log_dir=logdir_ft)"
      ],
      "metadata": {
        "id": "4DwxQTXg9dEn"
      },
      "execution_count": 48,
      "outputs": []
    },
    {
      "cell_type": "code",
      "source": [
        "hist = model.fit(train, epochs= 10, validation_data=val, callbacks=[tensorboard_callback])"
      ],
      "metadata": {
        "id": "fpeluhJ89qsl"
      },
      "execution_count": null,
      "outputs": []
    },
    {
      "cell_type": "code",
      "source": [
        "fig, ax = plt.subplots(ncols = 2, figsize = (12, 6))\n",
        "\n",
        "ax[0].plot(hist.history['loss'], color='teal', label='loss')\n",
        "ax[0].plot(hist.history['val_loss'], color='orange', label='val_loss')\n",
        "\n",
        "ax[1].plot(hist.history['accuracy'], color='teal', label='accuracy')\n",
        "ax[1].plot(hist.history['val_accuracy'], color='orange', label='val_accuracy')\n",
        "\n",
        "ax[0].title.set_text('Loss')\n",
        "ax[1].title.set_text('Accuracy')\n",
        "\n",
        "ax[0].legend(loc=\"upper left\")\n",
        "ax[1].legend(loc=\"upper left\")"
      ],
      "metadata": {
        "colab": {
          "base_uri": "https://localhost:8080/",
          "height": 407
        },
        "id": "0myhh8FX9que",
        "outputId": "4d806aea-4b31-4583-f5c6-d5845ed1cad2"
      },
      "execution_count": 50,
      "outputs": [
        {
          "output_type": "execute_result",
          "data": {
            "text/plain": [
              "<matplotlib.legend.Legend at 0x7fe36be38f50>"
            ]
          },
          "metadata": {},
          "execution_count": 50
        },
        {
          "output_type": "display_data",
          "data": {
            "text/plain": [
              "<Figure size 864x432 with 2 Axes>"
            ],
            "image/png": "[encoded data removed]"
          },
          "metadata": {
            "needs_background": "light"
          }
        }
      ]
    },
    {
      "cell_type": "markdown",
      "source": [
        "После обучения точность увеличилась, но видны небольшие признаки переобучения на тренировочных данных (точность 99,8%). Посмотрим реальный и предсказанный класс для изображений."
      ],
      "metadata": {
        "id": "zk1LGcrN-EfF"
      }
    },
    {
      "cell_type": "code",
      "source": [
        "def show_catsdogs(images, labels, predicted_labels=None):\n",
        "    names = {0: \"Cat\", 1: \"Dog\"}\n",
        "    plt.figure(figsize=(10,10))\n",
        "    for i in range(16):\n",
        "        plt.subplot(4,4, i+1)\n",
        "        plt.xticks([])\n",
        "        plt.yticks([])\n",
        "        plt.grid(False)\n",
        "        plt.imshow(images[i], cmap=plt.cm.gray)\n",
        "        if predicted_labels is not None:\n",
        "            title_obj = plt.title(f\"Real: {names[labels[i]]}. Pred: {names[int(predicted_labels[i])]}\")\n",
        "            if labels[i] != predicted_labels[i]:\n",
        "                plt.setp(title_obj, color='r')\n",
        "        else:\n",
        "            plt.title(f\"Real label: {names[labels[i]]}\")"
      ],
      "metadata": {
        "id": "OUi9Bll1-8H-"
      },
      "execution_count": null,
      "outputs": []
    },
    {
      "cell_type": "code",
      "source": [
        "sample = test.as_numpy_iterator()\n",
        "sample1 = sample.next()"
      ],
      "metadata": {
        "id": "6OX8VYlD-Dm2"
      },
      "execution_count": 65,
      "outputs": []
    },
    {
      "cell_type": "code",
      "source": [
        "sample_validation_images,sample_validation_labels = sample1"
      ],
      "metadata": {
        "id": "BDQQedGf-DpE"
      },
      "execution_count": 66,
      "outputs": []
    },
    {
      "cell_type": "code",
      "source": [
        "predicted = model.predict(test)"
      ],
      "metadata": {
        "id": "mrLrXwmD-dXc"
      },
      "execution_count": 67,
      "outputs": []
    },
    {
      "cell_type": "code",
      "source": [
        "predicted_label = list(np.where(predicted > 0.5, 1,0))"
      ],
      "metadata": {
        "id": "yXmUwpfD-eJW"
      },
      "execution_count": 68,
      "outputs": []
    },
    {
      "cell_type": "code",
      "source": [
        "show_catsdogs(sample_validation_images, sample_validation_labels, predicted_label)"
      ],
      "metadata": {
        "id": "dF1HRwh7-eOe"
      },
      "execution_count": null,
      "outputs": []
    }
  ]
}